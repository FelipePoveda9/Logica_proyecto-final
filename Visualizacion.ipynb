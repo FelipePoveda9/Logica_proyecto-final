{
 "cells": [
  {
   "cell_type": "code",
   "execution_count": 114,
   "metadata": {},
   "outputs": [],
   "source": [
    "from groundedPL.codificacion import ToPropositionalLogic\n",
    "\n",
    "parser = ToPropositionalLogic()\n",
    "parser.debug = True"
   ]
  },
  {
   "cell_type": "code",
   "execution_count": 115,
   "metadata": {},
   "outputs": [
    {
     "name": "stdout",
     "output_type": "stream",
     "text": [
      "\n",
      "B1:\n",
      "B1 definido entre (fila0,columna0)\n",
      "\n",
      "B2:\n",
      "B2 definido entre (fila1,columna0), (fila1,columna1)\n",
      "\n",
      "B3:\n",
      "B3 definido entre (fila2,columna0), (fila2,columna1), (fila2,columna2)\n",
      "\n",
      "B4:\n",
      "B4 definido entre (fila3,columna0), (fila3,columna1), (fila3,columna2), (fila3,columna3)\n",
      "\n",
      "Casillas vacías:\n",
      "['¬BARCO(fila0, columna1)', '¬BARCO(fila0, columna2)', '¬BARCO(fila0, columna3)', '¬BARCO(fila0, columna4)', '¬BARCO(fila0, columna5)', '¬BARCO(fila0, columna6)', '¬BARCO(fila0, columna7)', '¬BARCO(fila1, columna2)', '¬BARCO(fila1, columna3)', '¬BARCO(fila1, columna4)', '¬BARCO(fila1, columna5)', '¬BARCO(fila1, columna6)', '¬BARCO(fila1, columna7)', '¬BARCO(fila2, columna3)', '¬BARCO(fila2, columna4)', '¬BARCO(fila2, columna5)', '¬BARCO(fila2, columna6)', '¬BARCO(fila2, columna7)', '¬BARCO(fila3, columna4)', '¬BARCO(fila3, columna5)', '¬BARCO(fila3, columna6)', '¬BARCO(fila3, columna7)', '¬BARCO(fila4, columna0)', '¬BARCO(fila4, columna1)', '¬BARCO(fila4, columna2)', '¬BARCO(fila4, columna3)', '¬BARCO(fila4, columna4)', '¬BARCO(fila4, columna5)', '¬BARCO(fila4, columna6)', '¬BARCO(fila4, columna7)', '¬BARCO(fila5, columna0)', '¬BARCO(fila5, columna1)', '¬BARCO(fila5, columna2)', '¬BARCO(fila5, columna3)', '¬BARCO(fila5, columna4)', '¬BARCO(fila5, columna5)', '¬BARCO(fila5, columna6)', '¬BARCO(fila5, columna7)', '¬BARCO(fila6, columna0)', '¬BARCO(fila6, columna1)', '¬BARCO(fila6, columna2)', '¬BARCO(fila6, columna3)', '¬BARCO(fila6, columna4)', '¬BARCO(fila6, columna5)', '¬BARCO(fila6, columna6)', '¬BARCO(fila6, columna7)', '¬BARCO(fila7, columna0)', '¬BARCO(fila7, columna1)', '¬BARCO(fila7, columna2)', '¬BARCO(fila7, columna3)', '¬BARCO(fila7, columna4)', '¬BARCO(fila7, columna5)', '¬BARCO(fila7, columna6)', '¬BARCO(fila7, columna7)']\n"
     ]
    }
   ],
   "source": [
    "from groundedPL.logUtils import LogUtils\n",
    "from typing import List, Tuple\n",
    "NUM_FILAS = 8\n",
    "NUM_COLUMNAS = 8\n",
    "casillas = [(f\"fila{x}\", f\"columna{y}\")\n",
    "            for x in range(NUM_FILAS) for y in range(NUM_COLUMNAS)]\n",
    "\n",
    "#Deben haber 4 barcos en el mapa\n",
    "def crear_regla_1():\n",
    "    #Bn: Barco de n casillas (n=1,2,3,4)\n",
    "    otoria_Bn = []\n",
    "    for n in range(1, 5):\n",
    "        for x in range(NUM_FILAS):\n",
    "            for y in range(NUM_COLUMNAS):\n",
    "                for i in range(n):\n",
    "                    x2, y2 = x + i, y\n",
    "                    if x2 < NUM_FILAS:\n",
    "                        atomo = parser.to_nltk(f\"EN({x},{y}, {x2},{y2})\")\n",
    "                        otoria_Bn.append(atomo)\n",
    "                for j in range(n):\n",
    "                    x2, y2 = x, y + j\n",
    "                    if y2 < NUM_COLUMNAS:\n",
    "                        atomo = parser.to_nltk(f\"EN({x},{y}, {x2},{y2})\")\n",
    "                        otoria_Bn.append(atomo)\n",
    "    # B1: Barco de 1 casilla \n",
    "    otoria_B1 = []\n",
    "    for x in range(8):\n",
    "        for y in range(8):\n",
    "            x2, y2 = x, y\n",
    "            formula = (f'EN({x},{y}, {x2},{y2})')\n",
    "            atomo = parser.to_nltk(formula)\n",
    "            otoria_B1.append(atomo)\n",
    "    B1 = LogUtils.Otoria(otoria_B1)\n",
    "\n",
    "    # B2: Barco de 2 casillas (horizontal o vertical)\n",
    "    otoria_B2_h = []\n",
    "    for x in range(7):\n",
    "        ytoria = []\n",
    "        for y in range(8):\n",
    "            x2, y2 = x + 1, y\n",
    "            formula = (f'EN({x},{y}, {x2},{y2})')\n",
    "            atomo = parser.to_nltk(formula)\n",
    "            ytoria.append(atomo)\n",
    "        otoria_B2_h.append(LogUtils.Ytoria(ytoria))\n",
    "    \n",
    "    otoria_B2_v = []\n",
    "    for y in range(7):\n",
    "        ytoria = []\n",
    "        for x in range(8):\n",
    "            x2, y2 = x, y + 1 \n",
    "            formula = (f'EN({x},{y}, {x2},{y2})')\n",
    "            atomo = parser.to_nltk(formula)\n",
    "            ytoria.append(atomo)\n",
    "        otoria_B2_v.append(LogUtils.Ytoria(ytoria))\n",
    "    \n",
    "    B2 = LogUtils.Otoria(otoria_B2_h + otoria_B2_v)\n",
    "\n",
    "    # B3: Barco de 3 casillas (horizontal o vertical)\n",
    "    otoria_B3_h = []\n",
    "    for x in range(7):\n",
    "        ytoria = []\n",
    "        for y in range(8):\n",
    "            x2, y2 = x + 2, y\n",
    "            formula = (f'EN({x},{y}, {x2},{y2})')\n",
    "            atomo = parser.to_nltk(formula)     \n",
    "            ytoria.append(atomo)\n",
    "        otoria_B3_h.append(LogUtils.Ytoria(ytoria))\n",
    "    \n",
    "    otoria_B3_v = []\n",
    "    for y in range(7):\n",
    "        ytoria = []\n",
    "        for x in range(8):\n",
    "            x2, y2 = x, y + 2\n",
    "            formula = (f'EN({x},{y}, {x2},{y2})')\n",
    "            atomo = parser.to_nltk(formula)\n",
    "            ytoria.append(atomo)\n",
    "        otoria_B3_v.append(LogUtils.Ytoria(ytoria))\n",
    "    B3 = LogUtils.Otoria(otoria_B3_h + otoria_B3_v)\n",
    "    \n",
    "    # B4: Barco de 4 casillas (horizontal o vertical)\n",
    "    otoria_B4_h = []\n",
    "    for x in range(7):\n",
    "        ytoria = []\n",
    "        for y in range(8):\n",
    "            x2, y2 = x + 3, y\n",
    "            formula = (f'EN({x},{y}, {x2},{y2})')\n",
    "            atomo = parser.to_nltk(formula) \n",
    "            ytoria.append(atomo)\n",
    "        otoria_B4_h.append(LogUtils.Ytoria(ytoria))\n",
    "    \n",
    "    otoria_B4_v = []\n",
    "    for y in range(7):\n",
    "        ytoria = []\n",
    "        for x in range(8):\n",
    "            x2, y2 = x, y + 3\n",
    "            formula = (f'EN({x},{y}, {x2},{y2})')\n",
    "            atomo = parser.to_nltk(formula) \n",
    "            ytoria.append(atomo)\n",
    "        otoria_B4_v.append(LogUtils.Ytoria(ytoria))\n",
    "    \n",
    "    B4 = LogUtils.Otoria(otoria_B4_h + otoria_B4_v)\n",
    "\n",
    "    regla_1 = LogUtils.Ytoria([B1, B2, B3, B4])\n",
    "    return regla_1\n",
    "\n",
    "\"\"\" \n",
    "def igual(x, x2):\n",
    "    if x == x2:\n",
    "        return True\n",
    "    else:\n",
    "        return False\n",
    "def igual(y, y2):\n",
    "    if y == y2:\n",
    "        return True\n",
    "    else:\n",
    "        return False\n",
    "\n",
    "\n",
    "# Al posicionar un barco, todas sus casillas deben estar alineadas en la misma fila o columna\n",
    "def crear_regla_2():\n",
    "    Ytoria_vf = []\n",
    "    for x in range(NUM_FILAS):\n",
    "        for y in range(NUM_COLUMNAS):\n",
    "            for x2 in range(NUM_FILAS):\n",
    "                for y2 in range(NUM_COLUMNAS):\n",
    "                    iguales = igual(x, y) | igual(x2, y2)\n",
    "                    formula = (f'EN({x},{y}, {x2},{y2}) > {iguales}')\n",
    "                    atomo= parser.to_nltk(formula)\n",
    "                    Ytoria_vf.append(atomo)\n",
    "    regla_2 = LogUtils.Ytoria(Ytoria_vf)\n",
    "    return regla_2\n",
    "\"\"\"\n",
    "def igual(x, x2):\n",
    "    if x == x2:\n",
    "        return True\n",
    "    else:\n",
    "        return False\n",
    "def igual1(y, y2):\n",
    "    if y == y2:\n",
    "        return True\n",
    "    else:\n",
    "        return False\n",
    "    \n",
    "def crear_regla_2():\n",
    "    Ytoria_vf = []\n",
    "    for x in range(NUM_FILAS):\n",
    "        for y in range(NUM_COLUMNAS):\n",
    "            for x2 in range(NUM_FILAS):\n",
    "                for y2 in range(NUM_COLUMNAS):\n",
    "                    antecedente = parser.to_nltk(f\"EN({x},{y}, {x2},{y2})\")\n",
    "                    consecuente =  parser.to_nltk(f\"Igual({igual})\"), parser.to_nltk(f\"Igual({igual1})\")  \n",
    "                    implicacion = LogUtils.Ytoria(antecedente, consecuente)\n",
    "                    Ytoria_vf.append(implicacion)\n",
    "    regla_2 = LogUtils.Ytoria(Ytoria_vf)  # Conjunción universal (∀)\n",
    "    return regla_2\n",
    "\n",
    "# Para todo barco definifo, todas las casillas entre su inicio y su fin deben estar ocupadas por el barco\n",
    "\"\"\"def crear_regla_3():\n",
    "    Yrotia_vf = []\n",
    "    for x in range(NUM_FILAS):\n",
    "        for y in range(NUM_COLUMNAS):\n",
    "            for x2 in range(NUM_FILAS):\n",
    "                for y2 in range(NUM_COLUMNAS):\n",
    "                    if igual(x, x2) or igual(y, y2):  \n",
    "                        antecedente = parser.to_nltk(f\"EN({x},{y},{x2},{y2})\")\n",
    "                        cuerpo = []\n",
    "                        if x == x2: \n",
    "                            y_start, y_end = sorted([y, y2])\n",
    "                            for y in range(y_start, y_end + 1):\n",
    "                                cuerpo.append(parser.to_nltk(f\"Oc({x},{y})\"))\n",
    "                        else: \n",
    "                            x_start, x_end = sorted([x, x2])\n",
    "                            for x in range(x_start, x_end + 1):\n",
    "                                cuerpo.append(parser.to_nltk(f\"Oc({x},{y})\"))\n",
    "                        consecuente = LogUtils.Ytoria(cuerpo)\n",
    "                        implicacion = parser.to_nltk(f\"{antecedente} > {consecuente}\")\n",
    "                        Yrotia_vf.append(implicacion)\n",
    "    return LogUtils.Ytoria(Yrotia_vf)\"\"\"\n",
    "\n",
    "\n",
    "def entre_casillas(x: int, y: int, x2: int, y2: int) -> List[Tuple[int, int]]:\n",
    "    casillas = []\n",
    "    if igual(x,x2): \n",
    "        inicio, fin = sorted([y, y2])\n",
    "        for y in range(inicio, fin + 1):\n",
    "            casillas.append((x, y))\n",
    "    elif igual1(y,y2) :\n",
    "        inicio, fin = sorted([x, x2])\n",
    "        for x in range(inicio, fin + 1):\n",
    "            casillas.append((x, y))\n",
    "    return casillas\n",
    "\n",
    "def crear_regla_3():\n",
    "    Ytoria_vf = []\n",
    "    for x in range(NUM_FILAS):\n",
    "        for y in range(NUM_COLUMNAS):\n",
    "            for x2 in range(NUM_FILAS):\n",
    "                for y2 in range(NUM_COLUMNAS):\n",
    "                    casillas_entre = entre_casillas(x, y, x2, y2)\n",
    "                    if not casillas_entre: \n",
    "                        continue\n",
    "                    antecedente = parser.to_nltk(f\"En({x},{y}, {x2},{y2})\")\n",
    "                    ocupadas = []\n",
    "                    for (u, v) in casillas_entre:\n",
    "                        ocupadas.append(parser.to_nltk(f\"Oc({u},{v})\"))\n",
    "                    consecuente = LogUtils.Ytoria(ocupadas) \n",
    "                    implicacion = parser.to_nltk(f\"{antecedente} > {consecuente}\")\n",
    "                    Ytoria_vf.append(implicacion)\n",
    "    regla_3 = LogUtils.Ytoria(Ytoria_vf) \n",
    "    return regla_3\n",
    "\n",
    "#No puede haber barcos sobrepuestos\n",
    "def crear_regla_4():\n",
    "    condiciones = []\n",
    "\n",
    "    # Función auxiliar para obtener casillas de un barco\n",
    "    def casillas_barco(x1, y1, x2, y2):\n",
    "        if x1 == x2:  # Barco horizontal\n",
    "            return {(x1, y) for y in range(min(y1, y2), max(y1, y2) + 1)}\n",
    "        elif y1 == y2:  # Barco vertical\n",
    "            return {(x, y1) for x in range(min(x1, x2), max(x1, x2) + 1)}\n",
    "        return set()\n",
    "\n",
    "    # Generar pares únicos de barcos\n",
    "    for barco1 in crear_regla_2():\n",
    "        x1, y1, x2, y2 = barco1\n",
    "        casillas_b1 = casillas_barco(x1, y1, x2, y2)\n",
    "        for barco2 in crear_regla_2():\n",
    "            u1, v1, u2, v2 = barco2\n",
    "            # Evitar comparar el mismo barco\n",
    "            if barco1 == barco2:\n",
    "                continue\n",
    "            casillas_b2 = casillas_barco(u1, v1, u2, v2)\n",
    "            # Si hay intersección, crear regla\n",
    "            if casillas_b1 & casillas_b2:\n",
    "                antecedente1 = parser.to_nltk(f\"En({x1},{y1}, {x2},{y2})\")\n",
    "                antecedente2 = parser.to_nltk(f\"En({u1},{v1}, {u2},{v2})\")\n",
    "                # Negar la coexistencia de ambos barcos\n",
    "                formula = LogUtils.Negacion(LogUtils.Ytoria([antecedente1, antecedente2]))\n",
    "                condiciones.append(formula)\n",
    "\n",
    "    regla_4 = LogUtils.Ytoria(condiciones)\n",
    "    return regla_4\n",
    "\n",
    "\n",
    "\n",
    "# Definir barcos (hardcodeados como en tu ejemplo)\n",
    "barcos = {\n",
    "    'B1': [(\"fila0\", \"columna0\")],  # Barco tamaño 1\n",
    "    'B2': [(\"fila1\", \"columna0\"), (\"fila1\", \"columna1\")],  # Barco tamaño 2 vertical\n",
    "    'B3': [(\"fila2\", \"columna0\"), (\"fila2\", \"columna1\"), (\"fila2\", \"columna2\")],  # Barco tamaño 3 horizontal\n",
    "    'B4': [(\"fila3\", \"columna0\"), (\"fila3\", \"columna1\"), (\"fila3\", \"columna2\"), (\"fila3\", \"columna3\")]  # Barco tamaño 4 vertical\n",
    "}\n",
    "\"\"\"barcos = {\n",
    "    'B1': [(\"fila0\", \"columna0\"), (\"fila0\", \"columna0\")],\n",
    "    'B2': [(\"fila1\", \"columna0\"), (\"fila1\", \"columna1\")],\n",
    "    'B3': [(\"fila2\", \"columna0\"), (\"fila2\", \"columna2\")],\n",
    "    'B4': [(\"fila3\", \"columna0\"), (\"fila3\", \"columna3\")]\n",
    "}\"\"\"\n",
    "\n",
    "\n",
    "# Función para imprimir barcos y casillas vacías\n",
    "def imprimir_estado(barcos, casillas):\n",
    "    for nombre, posiciones in barcos.items():\n",
    "        print(f\"\\n{nombre}:\")\n",
    "        print(f\"{nombre} definido entre {', '.join([f'({x},{y})' for x, y in posiciones])}\")\n",
    "    \n",
    "    casillas_ocupadas = [pos for posiciones in barcos.values() for pos in posiciones]\n",
    "    casillas_vacias = [f\"¬BARCO({x}, {y})\" for x, y in casillas if (x, y) not in casillas_ocupadas]\n",
    "    \n",
    "    print(\"\\nCasillas vacías:\")\n",
    "    print(casillas_vacias)\n",
    "\n",
    "\n",
    "imprimir_estado(barcos, casillas)\n"
   ]
  },
  {
   "cell_type": "markdown",
   "metadata": {},
   "source": [
    "---"
   ]
  },
  {
   "cell_type": "markdown",
   "metadata": {},
   "source": [
    "# Interpretaciones y descriptores <a class=\"anchor\" id=\"interp\"></a>\n",
    "\n",
    "([Volver al inicio](#inicio))\n",
    "\n"
   ]
  },
  {
   "cell_type": "code",
   "execution_count": 168,
   "metadata": {},
   "outputs": [
    {
     "data": {
      "text/plain": [
       "'parser.debug = False\\n# Crear un diccionario para representar las posiciones ocupadas por los barcos\\nEntre = [pos for posiciones in barcos.values() for pos in posiciones]\\nI = {\\n    parser.parse(f\"EN({NUM_FILAS}, {NUM_COLUMNAS})\"): (NUM_FILAS, NUM_COLUMNAS) in Entre\\n    for NUM_FILAS, NUM_COLUMNAS in casillas\\n}\\n\\n# Mostrar el resultado\\nprint(I)'"
      ]
     },
     "execution_count": 168,
     "metadata": {},
     "output_type": "execute_result"
    }
   ],
   "source": [
    "\"\"\"parser.debug = False\n",
    "# Crear un diccionario para representar las posiciones ocupadas por los barcos\n",
    "Entre = [pos for posiciones in barcos.values() for pos in posiciones]\n",
    "I = {\n",
    "    parser.parse(f\"EN({NUM_FILAS}, {NUM_COLUMNAS})\"): (NUM_FILAS, NUM_COLUMNAS) in Entre\n",
    "    for NUM_FILAS, NUM_COLUMNAS in casillas\n",
    "}\n",
    "\n",
    "# Mostrar el resultado\n",
    "print(I)\"\"\""
   ]
  },
  {
   "cell_type": "code",
   "execution_count": 172,
   "metadata": {},
   "outputs": [
    {
     "name": "stdout",
     "output_type": "stream",
     "text": [
      "En: {'ず': True, '㌳': False, '㘌': False, '㣥': False, '㮾': False, '㺗': False, '䅰': False, '䑉': False, 'ふ': True, '㍎': True, '㘧': False, '㤀': False, '㯙': False, '㺲': False, '䆋': False, '䑤': False, 'ゐ': True, '㍩': True, '㙂': True, '㤛': False, '㯴': False, '㻍': False, '䆦': False, '䑿': False, 'カ': True, '㎄': True, '㙝': True, '㤶': True, '㰏': False, '㻨': False, '䇁': False, '䒚': False, 'テ': False, '㎟': False, '㙸': False, '㥑': False, '㰪': False, '㼃': False, '䇜': False, '䒵': False, 'メ': False, '㎺': False, '㚓': False, '㥬': False, '㱅': False, '㼞': False, '䇷': False, '䓐': False, 'ー': False, '㏕': False, '㚮': False, '㦇': False, '㱠': False, '㼹': False, '䈒': False, '䓫': False, 'ㄗ': False, '㏰': False, '㛉': False, '㦢': False, '㱻': False, '㽔': False, '䈭': False, '䔆': False}\n"
     ]
    }
   ],
   "source": [
    "# Descriptor 1: En\n",
    "parser.debug = False\n",
    "\n",
    "Entre = [pos for posiciones in barcos.values() for pos in posiciones]\n",
    "I = {\n",
    "    parser.parse(f\"En({x},{y})\"): (f\"fila{x}\", f\"columna{y}\") in Entre\n",
    "    for x in range(NUM_FILAS) for y in range(NUM_COLUMNAS)\n",
    "}\n",
    "print(\"En:\", I)"
   ]
  },
  {
   "cell_type": "code",
   "execution_count": 143,
   "metadata": {},
   "outputs": [
    {
     "data": {
      "text/plain": [
       "'parser.debug = False\\n\\nocupadas = [pos for posiciones in barcos.values() for pos in posiciones]\\n\\nOc = {\\n    parser.parse(f\"Oc({NUM_FILAS}, {NUM_COLUMNAS})\"): (NUM_FILAS, NUM_COLUMNAS) in ocupadas\\n    for NUM_FILAS, NUM_COLUMNAS in casillas\\n}\\n\\nprint(Oc)'"
      ]
     },
     "execution_count": 143,
     "metadata": {},
     "output_type": "execute_result"
    }
   ],
   "source": [
    "\"\"\"parser.debug = False\n",
    "\n",
    "ocupadas = [pos for posiciones in barcos.values() for pos in posiciones]\n",
    "\n",
    "Oc = {\n",
    "    parser.parse(f\"Oc({NUM_FILAS}, {NUM_COLUMNAS})\"): (NUM_FILAS, NUM_COLUMNAS) in ocupadas\n",
    "    for NUM_FILAS, NUM_COLUMNAS in casillas\n",
    "}\n",
    "\n",
    "print(Oc)\"\"\""
   ]
  },
  {
   "cell_type": "code",
   "execution_count": 173,
   "metadata": {},
   "outputs": [
    {
     "name": "stdout",
     "output_type": "stream",
     "text": [
      "Oc: {'す': True, '㌲': False, '㘋': False, '㣤': False, '㮽': False, '㺖': False, '䅯': False, '䑈': False, 'ぴ': True, '㍍': True, '㘦': False, '㣿': False, '㯘': False, '㺱': False, '䆊': False, '䑣': False, 'わ': True, '㍨': True, '㙁': True, '㤚': False, '㯳': False, '㻌': False, '䆥': False, '䑾': False, 'オ': True, '㎃': True, '㙜': True, '㤵': True, '㰎': False, '㻧': False, '䇀': False, '䒙': False, 'ヅ': False, '㎞': False, '㙷': False, '㥐': False, '㰩': False, '㼂': False, '䇛': False, '䒴': False, 'ム': False, '㎹': False, '㚒': False, '㥫': False, '㱄': False, '㼝': False, '䇶': False, '䓏': False, '・': False, '㏔': False, '㚭': False, '㦆': False, '㱟': False, '㼸': False, '䈑': False, '䓪': False, 'ㄖ': False, '㏯': False, '㛈': False, '㦡': False, '㱺': False, '㽓': False, '䈬': False, '䔅': False}\n"
     ]
    }
   ],
   "source": [
    "# Descriptor 2: Oc\n",
    "parser.debug = False\n",
    "ocupadas = [pos for posiciones in barcos.values() for pos in posiciones]\n",
    "Oc = {\n",
    "    parser.parse(f\"Oc({x},{y})\"): (f\"fila{x}\", f\"columna{y}\") in ocupadas\n",
    "    for x in range(NUM_FILAS) for y in range(NUM_COLUMNAS)\n",
    "}\n",
    "print(\"Oc:\", Oc)"
   ]
  },
  {
   "cell_type": "code",
   "execution_count": 198,
   "metadata": {},
   "outputs": [
    {
     "name": "stdout",
     "output_type": "stream",
     "text": [
      "\n",
      "Igual (filas): {'ᾱ': True, '⌗': True, '♽': True}\n",
      "\n",
      "Igual (columnas): {'ߋ': False, 'ଔ': False, '\\u0b31': False, '\\u0e5d': False, '\\u0e7a': False, 'ທ': False}\n"
     ]
    }
   ],
   "source": [
    "from itertools import combinations\n",
    "# Descriptor 3: Igual (para filas y columnas)\n",
    "parser.debug = False\n",
    "Igual_filas = {}\n",
    "Igual_columnas = {}\n",
    "\n",
    "for barco in barcos.values():    \n",
    "    for (x, y), (x2, y2) in combinations(barco, 2):\n",
    "        # Comparar filas\n",
    "        formula_fila = parser.parse(f\"Igual_fila({x},{x2})\")\n",
    "        Igual_filas[formula_fila] = igual1(x, x2)\n",
    "        # Comparar columnas\n",
    "        formula_columna = parser.parse(f\"Igual_columna({y},{y2})\")\n",
    "        Igual_columnas[formula_columna] = igual(y, y2)\n",
    "\n",
    "print(\"\\nIgual (filas):\", Igual_filas)\n",
    "print(\"\\nIgual (columnas):\", Igual_columnas)"
   ]
  },
  {
   "cell_type": "markdown",
   "metadata": {},
   "source": [
    "---"
   ]
  },
  {
   "cell_type": "markdown",
   "metadata": {},
   "source": [
    "# Visualización de interpretaciones <a class=\"anchor\" id=\"visual\"></a>\n",
    "\n",
    "([Volver al inicio](#inicio))\n",
    "\n"
   ]
  },
  {
   "cell_type": "code",
   "execution_count": 174,
   "metadata": {},
   "outputs": [
    {
     "name": "stdout",
     "output_type": "stream",
     "text": [
      "atomo='ず'\n",
      "Formula: En(0, 0)\n",
      "['0', '0']\n"
     ]
    },
    {
     "data": {
      "text/plain": [
       "'En'"
      ]
     },
     "execution_count": 174,
     "metadata": {},
     "output_type": "execute_result"
    }
   ],
   "source": [
    "atomo = list(I.keys())[0]\n",
    "print(f'{atomo=}')\n",
    "print(f'Formula: {parser.leer(atomo)}')\n",
    "print(f'{parser.obtener_argumentos(atomo)}')\n",
    "parser.obtener_predicado(atomo)"
   ]
  },
  {
   "cell_type": "code",
   "execution_count": 175,
   "metadata": {},
   "outputs": [
    {
     "name": "stdout",
     "output_type": "stream",
     "text": [
      "atomo='す'\n",
      "Formula: Oc(0, 0)\n",
      "['0', '0']\n"
     ]
    },
    {
     "data": {
      "text/plain": [
       "'Oc'"
      ]
     },
     "execution_count": 175,
     "metadata": {},
     "output_type": "execute_result"
    }
   ],
   "source": [
    "atomo = list(Oc.keys())[0]\n",
    "print(f'{atomo=}')\n",
    "print(f'Formula: {parser.leer(atomo)}')\n",
    "print(f'{parser.obtener_argumentos(atomo)}')\n",
    "parser.obtener_predicado(atomo)"
   ]
  },
  {
   "cell_type": "code",
   "execution_count": 191,
   "metadata": {},
   "outputs": [
    {
     "name": "stdout",
     "output_type": "stream",
     "text": [
      "atomo='ߋ'\n",
      "Formula: Igual_columna(columna0, columna1)\n",
      "['columna0', 'columna1']\n"
     ]
    },
    {
     "data": {
      "text/plain": [
       "'Igual_columna'"
      ]
     },
     "execution_count": 191,
     "metadata": {},
     "output_type": "execute_result"
    }
   ],
   "source": [
    "atomo = list(Igual_columnas.keys())[0]\n",
    "print(f'{atomo=}')\n",
    "print(f'Formula: {parser.leer(atomo)}')\n",
    "print(f'{parser.obtener_argumentos(atomo)}')\n",
    "parser.obtener_predicado(atomo)"
   ]
  },
  {
   "cell_type": "code",
   "execution_count": 188,
   "metadata": {},
   "outputs": [
    {
     "name": "stdout",
     "output_type": "stream",
     "text": [
      "atomo='ᾱ'\n",
      "Formula: Igual_fila(fila1, fila1)\n",
      "['fila1', 'fila1']\n"
     ]
    },
    {
     "data": {
      "text/plain": [
       "'Igual_fila'"
      ]
     },
     "execution_count": 188,
     "metadata": {},
     "output_type": "execute_result"
    }
   ],
   "source": [
    "atomo = list(Igual_filas.keys())[0]\n",
    "print(f'{atomo=}')\n",
    "print(f'Formula: {parser.leer(atomo)}')\n",
    "print(f'{parser.obtener_argumentos(atomo)}')\n",
    "parser.obtener_predicado(atomo)"
   ]
  },
  {
   "cell_type": "code",
   "execution_count": 176,
   "metadata": {},
   "outputs": [],
   "source": [
    "from typing import Tuple\n",
    "\n",
    "def obtener_fila_columna(atomo:str) -> Tuple[int, int]:\n",
    "    fila, columna = parser.obtener_argumentos(atomo)\n",
    "    num_fila = NUM_FILAS.index(fila)\n",
    "    num_columna = NUM_COLUMNAS.index(columna)\n",
    "    return num_fila, num_columna\n",
    "    "
   ]
  },
  {
   "cell_type": "markdown",
   "metadata": {},
   "source": [
    "### Ejercicio 3:\n",
    "\n",
    "Cree una función de visualización para representar una situación apropiada de su proyecto. Utilice la interpretación desarrollada en el ejercicio 2 como argumento."
   ]
  },
  {
   "cell_type": "code",
   "execution_count": 177,
   "metadata": {},
   "outputs": [],
   "source": [
    "import matplotlib.pyplot as plt\n",
    "import matplotlib.patches as patches\n",
    "from matplotlib.collections import PatchCollection\n",
    "\n",
    "def visualizar_batalla_naval(barcos):\n",
    "    fig, tablero = plt.subplots(figsize=(6, 6))\n",
    "    tablero.set_xlim(0, 8) #Define el limite del tablero \n",
    "    tablero.set_ylim(0, 8)\n",
    "    tablero.set_xticks(range(9))\n",
    "    tablero.set_yticks(range(9))\n",
    "    tablero.set_xticklabels(range(0, 9))\n",
    "    tablero.set_yticklabels(range(0, 9))\n",
    "    tablero.grid(True, color='black', linewidth=1)\n",
    "    tablero.set_title(\"Tablero de Batalla Naval\", fontsize=16)\n",
    "    tablero.set_xlabel(\"Columnas\", fontsize=12)\n",
    "    tablero.set_ylabel(\"Filas\", fontsize=12)\n",
    "\n",
    "    # Colores\n",
    "    agua_color = 'lightblue'\n",
    "    barco_color = 'darkgray'\n",
    "    borde_color = 'black'\n",
    "\n",
    "    # Dibujar todas las casillas como agua primero\n",
    "    for x in range(8):\n",
    "        for y in range(8):\n",
    "            rect = patches.Rectangle(\n",
    "                (y, x), 1, 1, \n",
    "                facecolor=agua_color, \n",
    "                edgecolor=borde_color,\n",
    "                linewidth=1\n",
    "            )\n",
    "            tablero.add_patch(rect)\n",
    "\n",
    "    # Dibujar los barcos según su tamaño\n",
    "    for nombre, posiciones in barcos.items():\n",
    "        # Determinar si el barco es horizontal o vertical\n",
    "        if len(posiciones) > 1:\n",
    "            primera = posiciones[0]\n",
    "            ultima = posiciones[-1]\n",
    "            x1, y1 = int(primera[0].replace(\"fila\", \"\")), int(primera[1].replace(\"columna\", \"\"))\n",
    "            x2, y2 = int(ultima[0].replace(\"fila\", \"\")), int(ultima[1].replace(\"columna\", \"\"))\n",
    "            \n",
    "            if x1 == x2:  # Barco horizontal\n",
    "                width = len(posiciones)\n",
    "                height = 1\n",
    "                y = y1\n",
    "            else:  # Barco vertical\n",
    "                width = 1\n",
    "                height = len(posiciones)\n",
    "                y = y1\n",
    "                \n",
    "            rect = patches.Rectangle(\n",
    "                (y, x1), width, height,\n",
    "                facecolor=barco_color,\n",
    "                edgecolor=borde_color,\n",
    "                linewidth=2\n",
    "            )\n",
    "            tablero.add_patch(rect)\n",
    "            \n",
    "            # Texto con el tamaño del barco\n",
    "            tablero.text(y + width/2, x1 + height/2, f\"{len(posiciones)}\",\n",
    "                    ha='center', va='center', \n",
    "                    fontsize=12, color='red')\n",
    "        else:  # Barco de 1 casilla\n",
    "            x = int(posiciones[0][0].replace(\"fila\", \"\"))\n",
    "            y = int(posiciones[0][1].replace(\"columna\", \"\"))\n",
    "            rect = patches.Rectangle(\n",
    "                (y, x), 1, 1,\n",
    "                facecolor=barco_color,\n",
    "                edgecolor=borde_color,\n",
    "                linewidth=2\n",
    "            )\n",
    "            tablero.add_patch(rect)\n",
    "            tablero.text(y + 0.5, x + 0.5, \"1\",\n",
    "                    ha='center', va='center', \n",
    "                    fontsize=12, color='red')\n",
    "\n",
    "    plt.gca().invert_yaxis()  # Para que fila 0 esté arriba\n",
    "    plt.show()\n",
    "\n",
    "# Ejemplo de uso con barcos de diferentes tamaños\n",
    "I = {\n",
    "    'B1': [(\"fila0\", \"columna0\")],  # Barco tamaño 1\n",
    "    'B2': [(\"fila1\", \"columna0\"), (\"fila1\", \"columna1\")],  # Barco tamaño 2 vertical\n",
    "    'B3': [(\"fila2\", \"columna0\"), (\"fila2\", \"columna1\"), (\"fila2\", \"columna2\")],  # Barco tamaño 3 horizontal\n",
    "    'B4': [(\"fila3\", \"columna0\"), (\"fila3\", \"columna1\"), (\"fila3\", \"columna2\"), (\"fila3\", \"columna3\")]  # Barco tamaño 4 vertical\n",
    "}\n"
   ]
  },
  {
   "cell_type": "code",
   "execution_count": 178,
   "metadata": {},
   "outputs": [
    {
     "data": {
      "image/png": "[encoded data removed]",
      "text/plain": [
       "<Figure size 600x600 with 1 Axes>"
      ]
     },
     "metadata": {},
     "output_type": "display_data"
    }
   ],
   "source": [
    "visualizar_batalla_naval(I)"
   ]
  },
  {
   "cell_type": "code",
   "execution_count": 179,
   "metadata": {},
   "outputs": [
    {
     "data": {
      "image/png": "[encoded data removed]",
      "text/plain": [
       "<Figure size 600x600 with 1 Axes>"
      ]
     },
     "metadata": {},
     "output_type": "display_data"
    }
   ],
   "source": [
    "import matplotlib.pyplot as plt\n",
    "import matplotlib.patches as patches\n",
    "\n",
    "def obtener_casillas_desde_extremos(extremo1, extremo2):\n",
    "    x1, y1 = int(extremo1[0].replace(\"fila\", \"\")), int(extremo1[1].replace(\"columna\", \"\"))\n",
    "    x2, y2 = int(extremo2[0].replace(\"fila\", \"\")), int(extremo2[1].replace(\"columna\", \"\"))\n",
    "\n",
    "    casillas = []\n",
    "    if x1 == x2:\n",
    "        for y in range(min(y1, y2), max(y1, y2) + 1):\n",
    "            casillas.append((f\"fila{x1}\", f\"columna{y}\"))\n",
    "    elif y1 == y2:\n",
    "        for x in range(min(x1, x2), max(x1, x2) + 1):\n",
    "            casillas.append((f\"fila{x}\", f\"columna{y1}\"))\n",
    "    else:\n",
    "        casillas.append((extremo1, extremo2))\n",
    "    return casillas\n",
    "\n",
    "def visualizar_batalla_naval(barcos):\n",
    "    fig, tablero = plt.subplots(figsize=(6, 6))\n",
    "    tablero.set_xlim(0, 8)\n",
    "    tablero.set_ylim(0, 8)\n",
    "    tablero.set_xticks(range(9))\n",
    "    tablero.set_yticks(range(9))\n",
    "    tablero.set_xticklabels(range(0, 9))\n",
    "    tablero.set_yticklabels(range(0, 9))\n",
    "    tablero.grid(True, color='black', linewidth=1)\n",
    "    tablero.set_title(\"Tablero de Batalla Naval\", fontsize=16)\n",
    "    tablero.set_xlabel(\"Columnas\", fontsize=12)\n",
    "    tablero.set_ylabel(\"Filas\", fontsize=12)\n",
    "\n",
    "    agua_color = 'lightblue'\n",
    "    barco_color = 'darkgray'\n",
    "    borde_color = 'black'\n",
    "\n",
    "    for x in range(8):\n",
    "        for y in range(8):\n",
    "            rect = patches.Rectangle(\n",
    "                (y, x), 1, 1, \n",
    "                facecolor=agua_color, \n",
    "                edgecolor=borde_color,\n",
    "                linewidth=1\n",
    "            )\n",
    "            tablero.add_patch(rect)\n",
    "\n",
    "    for nombre, posiciones in barcos.items():\n",
    "        for pos in posiciones:\n",
    "            x = int(pos[0].replace(\"fila\", \"\"))\n",
    "            y = int(pos[1].replace(\"columna\", \"\"))\n",
    "            rect = patches.Rectangle(\n",
    "                (y, x), 1, 1,\n",
    "                facecolor=barco_color,\n",
    "                edgecolor=borde_color,\n",
    "                linewidth=2\n",
    "            )\n",
    "            tablero.add_patch(rect)\n",
    "            tablero.text(y + 0.5, x + 0.5, nombre,\n",
    "                        ha='center', va='center', \n",
    "                        fontsize=10, color='red')\n",
    "\n",
    "    plt.gca().invert_yaxis()\n",
    "    plt.show()\n",
    "\n",
    "\n",
    "I = {\n",
    "    'B1': [('fila0', 'columna0'), ('fila0', 'columna0')],\n",
    "    'B2': [('fila1', 'columna0'), ('fila1', 'columna1')],\n",
    "    'B3': [('fila2', 'columna0'), ('fila2', 'columna2')],\n",
    "    'B4': [('fila3', 'columna0'), ('fila3', 'columna3')]\n",
    "}\n",
    "\n",
    "barcos_expandido = {}\n",
    "\n",
    "for nombre, extremos in I.items():\n",
    "    if len(extremos) == 2:\n",
    "        casillas = obtener_casillas_desde_extremos(extremos[0], extremos[1])\n",
    "        barcos_expandido[nombre] = casillas\n",
    "    else:\n",
    "        barcos_expandido[nombre] = extremos\n",
    "\n",
    "visualizar_batalla_naval(barcos_expandido)\n"
   ]
  },
  {
   "cell_type": "markdown",
   "metadata": {},
   "source": [
    "---"
   ]
  },
  {
   "cell_type": "markdown",
   "metadata": {},
   "source": []
  },
  {
   "cell_type": "markdown",
   "metadata": {},
   "source": []
  }
 ],
 "metadata": {
  "kernelspec": {
   "display_name": "Python 3",
   "language": "python",
   "name": "python3"
  },
  "language_info": {
   "codemirror_mode": {
    "name": "ipython",
    "version": 3
   },
   "file_extension": ".py",
   "mimetype": "text/x-python",
   "name": "python",
   "nbconvert_exporter": "python",
   "pygments_lexer": "ipython3",
   "version": "3.13.3"
  }
 },
 "nbformat": 4,
 "nbformat_minor": 4
}
