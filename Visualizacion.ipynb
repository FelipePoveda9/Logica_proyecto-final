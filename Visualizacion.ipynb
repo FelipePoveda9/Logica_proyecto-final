{
 "cells": [
  {
   "cell_type": "code",
   "execution_count": 480,
   "metadata": {},
   "outputs": [],
   "source": [
    "from groundedPL.codificacion import ToPropositionalLogic\n",
    "\n",
    "parser = ToPropositionalLogic()"
   ]
  },
  {
   "cell_type": "code",
   "execution_count": 481,
   "metadata": {},
   "outputs": [
    {
     "name": "stdout",
     "output_type": "stream",
     "text": [
      "\n",
      "B1:\n",
      "B1 definido entre (fila0,columna0)\n",
      "\n",
      "B2:\n",
      "B2 definido entre (fila1,columna0), (fila1,columna1)\n",
      "\n",
      "B3:\n",
      "B3 definido entre (fila2,columna0), (fila2,columna1), (fila2,columna2)\n",
      "\n",
      "B4:\n",
      "B4 definido entre (fila3,columna0), (fila3,columna1), (fila3,columna2), (fila3,columna3)\n",
      "\n",
      "Casillas vacías:\n",
      "['¬BARCO(fila0, columna1)', '¬BARCO(fila0, columna2)', '¬BARCO(fila0, columna3)', '¬BARCO(fila0, columna4)', '¬BARCO(fila0, columna5)', '¬BARCO(fila0, columna6)', '¬BARCO(fila0, columna7)', '¬BARCO(fila1, columna2)', '¬BARCO(fila1, columna3)', '¬BARCO(fila1, columna4)', '¬BARCO(fila1, columna5)', '¬BARCO(fila1, columna6)', '¬BARCO(fila1, columna7)', '¬BARCO(fila2, columna3)', '¬BARCO(fila2, columna4)', '¬BARCO(fila2, columna5)', '¬BARCO(fila2, columna6)', '¬BARCO(fila2, columna7)', '¬BARCO(fila3, columna4)', '¬BARCO(fila3, columna5)', '¬BARCO(fila3, columna6)', '¬BARCO(fila3, columna7)', '¬BARCO(fila4, columna0)', '¬BARCO(fila4, columna1)', '¬BARCO(fila4, columna2)', '¬BARCO(fila4, columna3)', '¬BARCO(fila4, columna4)', '¬BARCO(fila4, columna5)', '¬BARCO(fila4, columna6)', '¬BARCO(fila4, columna7)', '¬BARCO(fila5, columna0)', '¬BARCO(fila5, columna1)', '¬BARCO(fila5, columna2)', '¬BARCO(fila5, columna3)', '¬BARCO(fila5, columna4)', '¬BARCO(fila5, columna5)', '¬BARCO(fila5, columna6)', '¬BARCO(fila5, columna7)', '¬BARCO(fila6, columna0)', '¬BARCO(fila6, columna1)', '¬BARCO(fila6, columna2)', '¬BARCO(fila6, columna3)', '¬BARCO(fila6, columna4)', '¬BARCO(fila6, columna5)', '¬BARCO(fila6, columna6)', '¬BARCO(fila6, columna7)', '¬BARCO(fila7, columna0)', '¬BARCO(fila7, columna1)', '¬BARCO(fila7, columna2)', '¬BARCO(fila7, columna3)', '¬BARCO(fila7, columna4)', '¬BARCO(fila7, columna5)', '¬BARCO(fila7, columna6)', '¬BARCO(fila7, columna7)']\n"
     ]
    }
   ],
   "source": [
    "from groundedPL.logUtils import LogUtils\n",
    "from typing import List, Tuple\n",
    "NUM_FILAS = 8\n",
    "NUM_COLUMNAS = 8\n",
    "casillas = [(f\"fila{x}\", f\"columna{y}\")\n",
    "            for x in range(NUM_FILAS) for y in range(NUM_COLUMNAS)]\n",
    "\n",
    "#Deben haber 4 barcos en el mapa\n",
    "def crear_regla_1():\n",
    "    #Bn: Barco de n casillas (n=1,2,3,4)\n",
    "    otoria_Bn = []\n",
    "    for n in range(1, 5):\n",
    "        for x in range(NUM_FILAS):\n",
    "            for y in range(NUM_COLUMNAS):\n",
    "                for i in range(n):\n",
    "                    x2, y2 = x + i, y\n",
    "                    if x2 < NUM_FILAS:\n",
    "                        atomo = parser.to_nltk(f\"En({x},{y}, {x2},{y2})\")\n",
    "                        otoria_Bn.append(atomo)\n",
    "                for j in range(n):\n",
    "                    x2, y2 = x, y + j\n",
    "                    if y2 < NUM_COLUMNAS:\n",
    "                        atomo = parser.to_nltk(f\"En({x},{y}, {x2},{y2})\")\n",
    "                        otoria_Bn.append(atomo)\n",
    "    # B1: Barco de 1 casilla \n",
    "    otoria_B1 = []\n",
    "    for x in range(8):\n",
    "        for y in range(8):\n",
    "            x2, y2 = x, y\n",
    "            formula = (f'En({x},{y}, {x2},{y2})')\n",
    "            atomo = parser.to_nltk(formula)\n",
    "            otoria_B1.append(atomo)\n",
    "    B1 = LogUtils.Otoria(otoria_B1)\n",
    "\n",
    "    # B2: Barco de 2 casillas (horizontal o vertical)\n",
    "    otoria_B2_h = []\n",
    "    for x in range(7):\n",
    "        ytoria = []\n",
    "        for y in range(8):\n",
    "            x2, y2 = x + 1, y\n",
    "            formula = (f'En({x},{y}, {x2},{y2})')\n",
    "            atomo = parser.to_nltk(formula)\n",
    "            ytoria.append(atomo)\n",
    "        otoria_B2_h.append(LogUtils.Ytoria(ytoria))\n",
    "    \n",
    "    otoria_B2_v = []\n",
    "    for y in range(7):\n",
    "        ytoria = []\n",
    "        for x in range(8):\n",
    "            x2, y2 = x, y + 1 \n",
    "            formula = (f'En({x},{y}, {x2},{y2})')\n",
    "            atomo = parser.to_nltk(formula)\n",
    "            ytoria.append(atomo)\n",
    "        otoria_B2_v.append(LogUtils.Ytoria(ytoria))\n",
    "    \n",
    "    B2 = LogUtils.Otoria(otoria_B2_h + otoria_B2_v)\n",
    "\n",
    "    # B3: Barco de 3 casillas (horizontal o vertical)\n",
    "    otoria_B3_h = []\n",
    "    for x in range(7):\n",
    "        ytoria = []\n",
    "        for y in range(8):\n",
    "            x2, y2 = x + 2, y\n",
    "            formula = (f'En({x},{y}, {x2},{y2})')\n",
    "            atomo = parser.to_nltk(formula)     \n",
    "            ytoria.append(atomo)\n",
    "        otoria_B3_h.append(LogUtils.Ytoria(ytoria))\n",
    "    \n",
    "    otoria_B3_v = []\n",
    "    for y in range(7):\n",
    "        ytoria = []\n",
    "        for x in range(8):\n",
    "            x2, y2 = x, y + 2\n",
    "            formula = (f'En({x},{y}, {x2},{y2})')\n",
    "            atomo = parser.to_nltk(formula)\n",
    "            ytoria.append(atomo)\n",
    "        otoria_B3_v.append(LogUtils.Ytoria(ytoria))\n",
    "    B3 = LogUtils.Otoria(otoria_B3_h + otoria_B3_v)\n",
    "    \n",
    "    # B4: Barco de 4 casillas (horizontal o vertical)\n",
    "    otoria_B4_h = []\n",
    "    for x in range(7):\n",
    "        ytoria = []\n",
    "        for y in range(8):\n",
    "            x2, y2 = x + 3, y\n",
    "            formula = (f'En({x},{y}, {x2},{y2})')\n",
    "            atomo = parser.to_nltk(formula) \n",
    "            ytoria.append(atomo)\n",
    "        otoria_B4_h.append(LogUtils.Ytoria(ytoria))\n",
    "    \n",
    "    otoria_B4_v = []\n",
    "    for y in range(7):\n",
    "        ytoria = []\n",
    "        for x in range(8):\n",
    "            x2, y2 = x, y + 3\n",
    "            formula = (f'En({x},{y}, {x2},{y2})')\n",
    "            atomo = parser.to_nltk(formula) \n",
    "            ytoria.append(atomo)\n",
    "        otoria_B4_v.append(LogUtils.Ytoria(ytoria))\n",
    "    \n",
    "    B4 = LogUtils.Otoria(otoria_B4_h + otoria_B4_v)\n",
    "\n",
    "    regla_1 = LogUtils.Ytoria([B1, B2, B3, B4])\n",
    "    return regla_1\n",
    "\n",
    "\"\"\" \n",
    "def igual(x, x2):\n",
    "    if x == x2:\n",
    "        return True\n",
    "    else:\n",
    "        return False\n",
    "def igual(y, y2):\n",
    "    if y == y2:\n",
    "        return True\n",
    "    else:\n",
    "        return False\n",
    "\n",
    "\n",
    "# Al posicionar un barco, todas sus casillas deben estar alineadas en la misma fila o columna\n",
    "def crear_regla_2():\n",
    "    Ytoria_vf = []\n",
    "    for x in range(NUM_FILAS):\n",
    "        for y in range(NUM_COLUMNAS):\n",
    "            for x2 in range(NUM_FILAS):\n",
    "                for y2 in range(NUM_COLUMNAS):\n",
    "                    iguales = igual(x, y) | igual(x2, y2)\n",
    "                    formula = (f'En({x},{y}, {x2},{y2}) > {iguales}')\n",
    "                    atomo= parser.to_nltk(formula)\n",
    "                    Ytoria_vf.append(atomo)\n",
    "    regla_2 = LogUtils.Ytoria(Ytoria_vf)\n",
    "    return regla_2\n",
    "\"\"\"\n",
    "def igual(x, x2):\n",
    "    if x == x2:\n",
    "        return True\n",
    "    else:\n",
    "        return False\n",
    "def igual1(y, y2):\n",
    "    if y == y2:\n",
    "        return True\n",
    "    else:\n",
    "        return False\n",
    "    \n",
    "def crear_regla_2():\n",
    "    Ytoria_vf = []\n",
    "    for x in range(NUM_FILAS):\n",
    "        for y in range(NUM_COLUMNAS):\n",
    "            for x2 in range(NUM_FILAS):\n",
    "                for y2 in range(NUM_COLUMNAS):\n",
    "                    antecedente = parser.to_nltk(f\"En({x},{y}, {x2},{y2})\")\n",
    "                    consecuente =  parser.to_nltk(f\"Igual({igual})\"), parser.to_nltk(f\"Igual({igual1})\")  \n",
    "                    implicacion = LogUtils.Ytoria(antecedente, consecuente)\n",
    "                    Ytoria_vf.append(implicacion)\n",
    "    regla_2 = LogUtils.Ytoria(Ytoria_vf)  # Conjunción universal (∀)\n",
    "    return regla_2\n",
    "\n",
    "# Para todo barco definifo, todas las casillas entre su inicio y su fin deben estar ocupadas por el barco\n",
    "\"\"\"def crear_regla_3():\n",
    "    Yrotia_vf = []\n",
    "    for x in range(NUM_FILAS):\n",
    "        for y in range(NUM_COLUMNAS):\n",
    "            for x2 in range(NUM_FILAS):\n",
    "                for y2 in range(NUM_COLUMNAS):\n",
    "                    if igual(x, x2) or igual(y, y2):  \n",
    "                        antecedente = parser.to_nltk(f\"En({x},{y},{x2},{y2})\")\n",
    "                        cuerpo = []\n",
    "                        if x == x2: \n",
    "                            y_start, y_end = sorted([y, y2])\n",
    "                            for y in range(y_start, y_end + 1):\n",
    "                                cuerpo.append(parser.to_nltk(f\"Oc({x},{y})\"))\n",
    "                        else: \n",
    "                            x_start, x_end = sorted([x, x2])\n",
    "                            for x in range(x_start, x_end + 1):\n",
    "                                cuerpo.append(parser.to_nltk(f\"Oc({x},{y})\"))\n",
    "                        consecuente = LogUtils.Ytoria(cuerpo)\n",
    "                        implicacion = parser.to_nltk(f\"{antecedente} > {consecuente}\")\n",
    "                        Yrotia_vf.append(implicacion)\n",
    "    return LogUtils.Ytoria(Yrotia_vf)\"\"\"\n",
    "\n",
    "\n",
    "def entre_casillas(x: int, y: int, x2: int, y2: int) -> List[Tuple[int, int]]:\n",
    "    casillas = []\n",
    "    if igual(x,x2): \n",
    "        inicio, fin = sorted([y, y2])\n",
    "        for y in range(inicio, fin + 1):\n",
    "            casillas.append((x, y))\n",
    "    elif igual1(y,y2) :\n",
    "        inicio, fin = sorted([x, x2])\n",
    "        for x in range(inicio, fin + 1):\n",
    "            casillas.append((x, y))\n",
    "    return casillas\n",
    "\n",
    "def crear_regla_3():\n",
    "    Ytoria_vf = []\n",
    "    for x in range(NUM_FILAS):\n",
    "        for y in range(NUM_COLUMNAS):\n",
    "            for x2 in range(NUM_FILAS):\n",
    "                for y2 in range(NUM_COLUMNAS):\n",
    "                    casillas_entre = entre_casillas(x, y, x2, y2)\n",
    "                    if not casillas_entre: \n",
    "                        continue\n",
    "                    antecedente = parser.to_nltk(f\"En({x},{y}, {x2},{y2})\")\n",
    "                    ocupadas = []\n",
    "                    for (u, v) in casillas_entre:\n",
    "                        ocupadas.append(parser.to_nltk(f\"Oc({u},{v})\"))\n",
    "                    consecuente = LogUtils.Ytoria(ocupadas) \n",
    "                    implicacion = parser.to_nltk(f\"{antecedente} > {consecuente}\")\n",
    "                    Ytoria_vf.append(implicacion)\n",
    "    regla_3 = LogUtils.Ytoria(Ytoria_vf) \n",
    "    return regla_3\n",
    "\n",
    "#No puede haber barcos sobrepuestos\n",
    "def crear_regla_4():\n",
    "    condiciones = []\n",
    "\n",
    "    # Función auxiliar para obtener casillas de un barco\n",
    "    def casillas_barco(x, y, x2, y2):\n",
    "        if x == x2:  # Barco horizontal\n",
    "            return {(x, y) for y in range(min(y, y2), max(y, y2) + 1)}\n",
    "        elif y == y2:  # Barco vertical\n",
    "            return {(x, y) for x in range(min(x, x2), max(x, x2) + 1)}\n",
    "        return set()\n",
    "\n",
    "    # Generar pares únicos de barcos\n",
    "    for barco1 in crear_regla_2():\n",
    "        x, y, x2, y2 = barco1\n",
    "        casillas_b1 = casillas_barco(x, y, x2, y2)\n",
    "        for barco2 in crear_regla_2():\n",
    "            u1, v1, u2, v2 = barco2\n",
    "            # Evitar comparar el mismo barco\n",
    "            if barco1 == barco2:\n",
    "                continue\n",
    "            casillas_b2 = casillas_barco(u1, v1, u2, v2)\n",
    "            # Si hay intersección, crear regla\n",
    "            if casillas_b1 & casillas_b2:\n",
    "                antecedente1 = parser.to_nltk(f\"En({x},{y}, {x2},{y2})\")\n",
    "                antecedente2 = parser.to_nltk(f\"En({u1},{v1}, {u2},{v2})\")\n",
    "                # Negar la coexistencia de ambos barcos\n",
    "                formula = LogUtils.Negacion(LogUtils.Ytoria([antecedente1, antecedente2]))\n",
    "                condiciones.append(formula)\n",
    "\n",
    "    regla_4 = LogUtils.Ytoria(condiciones)\n",
    "    return regla_4\n",
    "\n",
    "\n",
    "\n",
    "# Definir barcos (hardcodeados como en tu ejemplo)\n",
    "barcos = {\n",
    "    'B1': [(\"fila0\", \"columna0\")],  # Barco tamaño 1\n",
    "    'B2': [(\"fila1\", \"columna0\"), (\"fila1\", \"columna1\")],  # Barco tamaño 2 vertical\n",
    "    'B3': [(\"fila2\", \"columna0\"), (\"fila2\", \"columna1\"), (\"fila2\", \"columna2\")],  # Barco tamaño 3 horizontal\n",
    "    'B4': [(\"fila3\", \"columna0\"), (\"fila3\", \"columna1\"), (\"fila3\", \"columna2\"), (\"fila3\", \"columna3\")]  # Barco tamaño 4 vertical\n",
    "}\n",
    "\"\"\"barcos = {\n",
    "    'B1': [(0, 0)],  # Barco tamaño 1\n",
    "    'B2': [(1, 0), (1, 1)],  # Barco tamaño 2 vertical\n",
    "    'B3': [(2, 0), (2, 1), (2, 2)],  # Barco tamaño 3 horizontal\n",
    "    'B4': [(3, 0), (3, 1), (3, 2), (3, 3)]  # Barco tamaño 4 vertical\n",
    "}\"\"\"\n",
    "\n",
    "# Función para imprimir barcos y casillas vacías\n",
    "def imprimir_estado(barcos, casillas):\n",
    "    for nombre, posiciones in barcos.items():\n",
    "        print(f\"\\n{nombre}:\")\n",
    "        print(f\"{nombre} definido entre {', '.join([f'({x},{y})' for x, y in posiciones])}\")\n",
    "    \n",
    "    casillas_ocupadas = [pos for posiciones in barcos.values() for pos in posiciones]\n",
    "    casillas_vacias = [f\"¬BARCO({x}, {y})\" for x, y in casillas if (x, y) not in casillas_ocupadas]\n",
    "    \n",
    "    print(\"\\nCasillas vacías:\")\n",
    "    print(casillas_vacias)\n",
    "\n",
    "\n",
    "imprimir_estado(barcos, casillas)\n"
   ]
  },
  {
   "cell_type": "markdown",
   "metadata": {},
   "source": [
    "---"
   ]
  },
  {
   "cell_type": "markdown",
   "metadata": {},
   "source": [
    "# Interpretaciones y descriptores <a class=\"anchor\" id=\"interp\"></a>\n",
    "\n",
    "([Volver al inicio](#inicio))\n",
    "\n"
   ]
  },
  {
   "cell_type": "code",
   "execution_count": 482,
   "metadata": {},
   "outputs": [
    {
     "name": "stdout",
     "output_type": "stream",
     "text": [
      "{'ā': True, 'ċ': False, 'ģ': True, 'ŏ': False, 'ƕ': False, 'ǻ': False, 'ʇ': False, '̿': False, 'đ': True, 'Ţ': True, 'Ƴ': False, 'Ȅ': False, 'ɕ': False, 'ʦ': False, '˷': False, '͈': False, 'Ě': True, 'ū': True, 'Ƽ': True, 'ȍ': False, 'ɞ': False, 'ʯ': False, '̀': False, '͑': False, 'Ŵ': True, 'ǅ': True, 'Ȗ': True, 'ɧ': False, 'ʸ': False, '̉': False, '͚': False, 'Ĭ': False, 'Ž': False, 'ǎ': False, 'ȟ': False, 'ɰ': False, 'ˁ': False, '̒': False, 'ͣ': False, 'ĵ': False, 'Ɔ': False, 'Ǘ': False, 'Ȩ': False, 'ɹ': False, 'ˊ': False, '̛': False, 'ͬ': False, 'ľ': False, 'Ə': False, 'Ǡ': False, 'ȱ': False, 'ʂ': False, '˓': False, '̤': False, '͵': False, 'Ň': False, 'Ƙ': False, 'ǩ': False, 'Ⱥ': False, 'ʋ': False, '˜': False, '̭': False, ';': False}\n"
     ]
    }
   ],
   "source": [
    "# Descriptor 1: En como coordenadas de los barcos\n",
    "parser.debug = False\n",
    "\n",
    "Entre = [pos for posiciones in barcos.values() for pos in posiciones]\n",
    "En = {\n",
    "    parser.parse(f\"En({x},{y})\"): (f\"fila{x}\", f\"columna{y}\") in Entre\n",
    "    for x in range(NUM_FILAS) for y in range(NUM_COLUMNAS)\n",
    "}\n",
    "print(En)  # Para evitar errores de sintaxis"
   ]
  },
  {
   "cell_type": "code",
   "execution_count": 483,
   "metadata": {},
   "outputs": [
    {
     "name": "stdout",
     "output_type": "stream",
     "text": [
      "{'ĉ': True, 'ŭ': False, 'Ǒ': False, 'ȵ': False, 'ʙ': False, '˽': False, '͡': False, 'υ': False, 'ē': True, 'ŷ': True, 'Ǜ': False, 'ȿ': False, 'ʣ': False, '̇': False, 'ͫ': False, 'Ϗ': False, 'ĝ': True, 'Ɓ': True, 'ǥ': True, 'ɉ': False, 'ʭ': False, '̑': False, '͵': False, 'ϙ': False, 'ħ': True, 'Ƌ': True, 'ǯ': True, 'ɓ': True, 'ʷ': False, '̛': False, 'Ϳ': False, 'ϣ': False, 'ı': False, 'ƕ': False, 'ǹ': False, 'ɝ': False, 'ˁ': False, '̥': False, 'Ή': False, 'ϭ': False, 'Ļ': False, 'Ɵ': False, 'ȃ': False, 'ɧ': False, 'ˋ': False, '̯': False, 'Γ': False, 'Ϸ': False, 'Ņ': False, 'Ʃ': False, 'ȍ': False, 'ɱ': False, '˕': False, '̹': False, 'Ν': False, 'Ё': False, 'ŏ': False, 'Ƴ': False, 'ȗ': False, 'ɻ': False, '˟': False, '̓': False, 'Χ': False, 'Ћ': False}\n"
     ]
    }
   ],
   "source": [
    "# Descriptor 2: Oc como coordenadas individuales\n",
    "parser.debug = False\n",
    "\n",
    "ocupadas = [pos for posiciones in barcos.values() for pos in posiciones]\n",
    "Oc = {\n",
    "    parser.parse(f\"Oc({x},{y})\"): (f\"fila{x}\", f\"columna{y}\") in ocupadas\n",
    "    for x in range(NUM_FILAS) for y in range(NUM_COLUMNAS)\n",
    "}\n",
    "print(Oc)"
   ]
  },
  {
   "cell_type": "code",
   "execution_count": 484,
   "metadata": {},
   "outputs": [
    {
     "name": "stdout",
     "output_type": "stream",
     "text": [
      "Igual_u: {'Ċ': True, 'ƃ': False, 'Ǽ': False, 'ɵ': False, 'ˮ': False, 'ͧ': False, 'Ϡ': False, 'љ': False, 'ĕ': False, 'Ǝ': True, 'ȇ': False, 'ʀ': False, '˹': False, 'Ͳ': False, 'ϫ': False, 'Ѥ': False, 'Ġ': False, 'ƙ': False, 'Ȓ': True, 'ʋ': False, '̄': False, 'ͽ': False, '϶': False, 'ѯ': False, 'ī': False, 'Ƥ': False, 'ȝ': False, 'ʖ': True, '̏': False, 'Έ': False, 'Ё': False, 'Ѻ': False, 'Ķ': False, 'Ư': False, 'Ȩ': False, 'ʡ': False, '̚': True, 'Γ': False, 'Ќ': False, '҅': False, 'Ł': False, 'ƺ': False, 'ȳ': False, 'ʬ': False, '̥': False, 'Ξ': True, 'З': False, 'Ґ': False, 'Ō': False, 'ǅ': False, 'Ⱦ': False, 'ʷ': False, '̰': False, 'Ω': False, 'Т': True, 'қ': False, 'ŗ': False, 'ǐ': False, 'ɉ': False, '˂': False, '̻': False, 'δ': False, 'Э': False, 'Ҧ': True}\n",
      "Igual_v: {'ċ': True, 'ƛ': False, 'ȫ': False, 'ʻ': False, '͋': False, 'ϛ': False, 'ѫ': False, 'ӻ': False, 'ė': False, 'Ƨ': True, 'ȷ': False, 'ˇ': False, '͗': False, 'ϧ': False, 'ѷ': False, 'ԇ': False, 'ģ': False, 'Ƴ': False, 'Ƀ': True, '˓': False, 'ͣ': False, 'ϳ': False, '҃': False, 'ԓ': False, 'į': False, 'ƿ': False, 'ɏ': False, '˟': True, 'ͯ': False, 'Ͽ': False, 'ҏ': False, 'ԟ': False, 'Ļ': False, 'ǋ': False, 'ɛ': False, '˫': False, 'ͻ': True, 'Ћ': False, 'қ': False, 'ԫ': False, 'Ň': False, 'Ǘ': False, 'ɧ': False, '˷': False, '·': False, 'З': True, 'ҧ': False, 'Է': False, 'œ': False, 'ǣ': False, 'ɳ': False, '̃': False, 'Γ': False, 'У': False, 'ҳ': True, 'Ճ': False, 'ş': False, 'ǯ': False, 'ɿ': False, '̏': False, 'Ο': False, 'Я': False, 'ҿ': False, 'Տ': True}\n"
     ]
    }
   ],
   "source": [
    "from itertools import product\n",
    "\n",
    "parser.debug = False\n",
    "\n",
    "# Descriptor 3: Igual (adaptado como en Oc)\n",
    "Igual_u = {\n",
    "    parser.parse(f\"Igual_u({x},{x2})\"): x == x2\n",
    "    for x, x2 in product(range(NUM_FILAS), repeat=2)\n",
    "}\n",
    "\n",
    "Igual_v = {\n",
    "    parser.parse(f\"Igual_v({y},{y2})\"): y == y2\n",
    "    for y, y2 in product(range(NUM_COLUMNAS), repeat=2)\n",
    "}\n",
    "\n",
    "print(\"Igual_u:\", Igual_u)\n",
    "print(\"Igual_v:\", Igual_v)"
   ]
  },
  {
   "cell_type": "code",
   "execution_count": 485,
   "metadata": {},
   "outputs": [
    {
     "name": "stdout",
     "output_type": "stream",
     "text": [
      "BnCasillas: {}\n"
     ]
    }
   ],
   "source": [
    "from itertools import combinations\n",
    "\n",
    "parser.debug = False\n",
    "\n",
    "BnCasillas = {}\n",
    "\n",
    "for barco in barcos.values():\n",
    "    for (x, y), (x2, y2) in combinations(barco, 2):\n",
    "        # Están en misma fila o columna\n",
    "        misma_fila = x == x2\n",
    "        misma_columna = y == y2\n",
    "\n",
    "        if not (misma_fila or misma_columna):\n",
    "            continue  # ignorar si no están alineados\n",
    "\n",
    "        # Verificar si todas están ocupadas\n",
    "        if all((f\"fila{x}\", f\"columna{y}\") in barco for (x, y) in casillas):\n",
    "            formula = parser.parse(f\"BnCasillas({x},{y},{x2},{y2})\")\n",
    "            BnCasillas[formula] = True\n",
    "\n",
    "print(\"BnCasillas:\", BnCasillas)\n"
   ]
  },
  {
   "cell_type": "markdown",
   "metadata": {},
   "source": [
    "---"
   ]
  },
  {
   "cell_type": "markdown",
   "metadata": {},
   "source": [
    "# Visualización de interpretaciones <a class=\"anchor\" id=\"visual\"></a>\n",
    "\n",
    "([Volver al inicio](#inicio))\n",
    "\n"
   ]
  },
  {
   "cell_type": "code",
   "execution_count": 486,
   "metadata": {},
   "outputs": [
    {
     "name": "stdout",
     "output_type": "stream",
     "text": [
      "atomo='ā'\n",
      "Formula: 1(0, 0)\n",
      "['0', '0']\n"
     ]
    },
    {
     "data": {
      "text/plain": [
       "'1'"
      ]
     },
     "execution_count": 486,
     "metadata": {},
     "output_type": "execute_result"
    }
   ],
   "source": [
    "atomo = list(En.keys())[0]\n",
    "print(f'{atomo=}')\n",
    "print(f'Formula: {parser.leer(atomo)}')\n",
    "print(f'{parser.obtener_argumentos(atomo)}')\n",
    "parser.obtener_predicado(atomo)"
   ]
  },
  {
   "cell_type": "code",
   "execution_count": 487,
   "metadata": {},
   "outputs": [
    {
     "name": "stdout",
     "output_type": "stream",
     "text": [
      "atomo='ĉ'\n",
      "Formula: Oc(0, 0)\n",
      "['0', '0']\n"
     ]
    },
    {
     "data": {
      "text/plain": [
       "'Oc'"
      ]
     },
     "execution_count": 487,
     "metadata": {},
     "output_type": "execute_result"
    }
   ],
   "source": [
    "atomo = list(Oc.keys())[0]\n",
    "print(f'{atomo=}')\n",
    "print(f'Formula: {parser.leer(atomo)}')\n",
    "print(f'{parser.obtener_argumentos(atomo)}')\n",
    "parser.obtener_predicado(atomo)"
   ]
  },
  {
   "cell_type": "code",
   "execution_count": 488,
   "metadata": {},
   "outputs": [
    {
     "name": "stdout",
     "output_type": "stream",
     "text": [
      "atomo='ċ'\n",
      "Formula: Igual_v(0, 0)\n",
      "['0', '0']\n"
     ]
    },
    {
     "data": {
      "text/plain": [
       "'Igual_v'"
      ]
     },
     "execution_count": 488,
     "metadata": {},
     "output_type": "execute_result"
    }
   ],
   "source": [
    "atomo = list(Igual_v.keys())[0]\n",
    "print(f'{atomo=}')\n",
    "print(f'Formula: {parser.leer(atomo)}')\n",
    "print(f'{parser.obtener_argumentos(atomo)}')\n",
    "parser.obtener_predicado(atomo)"
   ]
  },
  {
   "cell_type": "code",
   "execution_count": 489,
   "metadata": {},
   "outputs": [
    {
     "name": "stdout",
     "output_type": "stream",
     "text": [
      "atomo='Ċ'\n",
      "Formula: Igual_u(0, 0)\n",
      "['0', '0']\n"
     ]
    },
    {
     "data": {
      "text/plain": [
       "'Igual_u'"
      ]
     },
     "execution_count": 489,
     "metadata": {},
     "output_type": "execute_result"
    }
   ],
   "source": [
    "atomo = list(Igual_u.keys())[0]\n",
    "print(f'{atomo=}')\n",
    "print(f'Formula: {parser.leer(atomo)}')\n",
    "print(f'{parser.obtener_argumentos(atomo)}')\n",
    "parser.obtener_predicado(atomo)"
   ]
  },
  {
   "cell_type": "markdown",
   "metadata": {},
   "source": [
    "### Ejercicio 3:\n",
    "\n",
    "Cree una función de visualización para representar una situación apropiada de su proyecto. Utilice la interpretación desarrollada en el ejercicio 2 como argumento."
   ]
  },
  {
   "cell_type": "code",
   "execution_count": 490,
   "metadata": {},
   "outputs": [],
   "source": [
    "import matplotlib.pyplot as plt\n",
    "import matplotlib.patches as patches\n",
    "from matplotlib.collections import PatchCollection\n",
    "\n",
    "def visualizar_batalla_naval(barcos):\n",
    "    fig, tablero = plt.subplots(figsize=(6, 6))\n",
    "    tablero.set_xlim(0, 8) #Define el limite del tablero \n",
    "    tablero.set_ylim(0, 8)\n",
    "    tablero.set_xticks(range(9))\n",
    "    tablero.set_yticks(range(9))\n",
    "    tablero.set_xticklabels(range(0, 9))\n",
    "    tablero.set_yticklabels(range(0, 9))\n",
    "    tablero.grid(True, color='black', linewidth=1)\n",
    "    tablero.set_title(\"Tablero de Batalla Naval\", fontsize=16)\n",
    "    tablero.set_xlabel(\"Columnas\", fontsize=12)\n",
    "    tablero.set_ylabel(\"Filas\", fontsize=12)\n",
    "\n",
    "    # Colores\n",
    "    agua_color = 'lightblue'\n",
    "    barco_color = 'darkgray'\n",
    "    borde_color = 'black'\n",
    "\n",
    "    # Dibujar todas las casillas como agua primero\n",
    "    for x in range(8):\n",
    "        for y in range(8):\n",
    "            rect = patches.Rectangle(\n",
    "                (y, x), 1, 1, \n",
    "                facecolor=agua_color, \n",
    "                edgecolor=borde_color,\n",
    "                linewidth=1\n",
    "            )\n",
    "            tablero.add_patch(rect)\n",
    "\n",
    "    # Dibujar los barcos según su tamaño\n",
    "    for nombre, posiciones in barcos.items():\n",
    "        # Determinar si el barco es horizontal o vertical\n",
    "        if len(posiciones) > 1:\n",
    "            primera = posiciones[0]\n",
    "            ultima = posiciones[-1]\n",
    "            x1, y1 = int(primera[0].replace(\"fila\", \"\")), int(primera[1].replace(\"columna\", \"\"))\n",
    "            x2, y2 = int(ultima[0].replace(\"fila\", \"\")), int(ultima[1].replace(\"columna\", \"\"))\n",
    "            \n",
    "            if x1 == x2:  # Barco horizontal\n",
    "                width = len(posiciones)\n",
    "                height = 1\n",
    "                y = y1\n",
    "            else:  # Barco vertical\n",
    "                width = 1\n",
    "                height = len(posiciones)\n",
    "                y = y1\n",
    "                \n",
    "            rect = patches.Rectangle(\n",
    "                (y, x1), width, height,\n",
    "                facecolor=barco_color,\n",
    "                edgecolor=borde_color,\n",
    "                linewidth=2\n",
    "            )\n",
    "            tablero.add_patch(rect)\n",
    "            \n",
    "            # Texto con el tamaño del barco\n",
    "            tablero.text(y + width/2, x1 + height/2, f\"{len(posiciones)}\",\n",
    "                    ha='center', va='center', \n",
    "                    fontsize=12, color='red')\n",
    "        else:  # Barco de 1 casilla\n",
    "            x = int(posiciones[0][0].replace(\"fila\", \"\"))\n",
    "            y = int(posiciones[0][1].replace(\"columna\", \"\"))\n",
    "            rect = patches.Rectangle(\n",
    "                (y, x), 1, 1,\n",
    "                facecolor=barco_color,\n",
    "                edgecolor=borde_color,\n",
    "                linewidth=2\n",
    "            )\n",
    "            tablero.add_patch(rect)\n",
    "            tablero.text(y + 0.5, x + 0.5, \"1\",\n",
    "                    ha='center', va='center', \n",
    "                    fontsize=12, color='red')\n",
    "\n",
    "    plt.gca().invert_yaxis()  # Para que fila 0 esté arriba\n",
    "    plt.show()\n",
    "\n",
    "# Ejemplo de uso con barcos de diferentes tamaños\n",
    "I = {\n",
    "    'B1': [(\"fila0\", \"columna0\")],  # Barco tamaño 1\n",
    "    'B2': [(\"fila1\", \"columna0\"), (\"fila1\", \"columna1\")],  # Barco tamaño 2 vertical\n",
    "    'B3': [(\"fila2\", \"columna0\"), (\"fila2\", \"columna1\"), (\"fila2\", \"columna2\")],  # Barco tamaño 3 horizontal\n",
    "    'B4': [(\"fila3\", \"columna0\"), (\"fila3\", \"columna1\"), (\"fila3\", \"columna2\"), (\"fila3\", \"columna3\")]  # Barco tamaño 4 vertical\n",
    "}\n"
   ]
  },
  {
   "cell_type": "code",
   "execution_count": 491,
   "metadata": {},
   "outputs": [
    {
     "data": {
      "image/png": "[encoded data removed]",
      "text/plain": [
       "<Figure size 600x600 with 1 Axes>"
      ]
     },
     "metadata": {},
     "output_type": "display_data"
    }
   ],
   "source": [
    "visualizar_batalla_naval(I)"
   ]
  }
 ],
 "metadata": {
  "kernelspec": {
   "display_name": "Python 3",
   "language": "python",
   "name": "python3"
  },
  "language_info": {
   "codemirror_mode": {
    "name": "ipython",
    "version": 3
   },
   "file_extension": ".py",
   "mimetype": "text/x-python",
   "name": "python",
   "nbconvert_exporter": "python",
   "pygments_lexer": "ipython3",
   "version": "3.13.3"
  }
 },
 "nbformat": 4,
 "nbformat_minor": 4
}
